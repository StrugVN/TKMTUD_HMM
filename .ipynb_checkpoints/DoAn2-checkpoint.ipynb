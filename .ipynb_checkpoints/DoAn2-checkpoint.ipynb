{
 "cells": [
  {
   "cell_type": "markdown",
   "metadata": {},
   "source": [
    "**Thống kê máy tính và Ứng dụng**  \n",
    "Học kì II, 2020 - 2021"
   ]
  },
  {
   "cell_type": "markdown",
   "metadata": {},
   "source": [
    "<hr>"
   ]
  },
  {
   "cell_type": "markdown",
   "metadata": {},
   "source": [
    "<br>\n",
    "<center><b><font size=\"10\">ĐỒ ÁN 2</font></b></center>\n",
    "<br>"
   ]
  },
  {
   "cell_type": "markdown",
   "metadata": {},
   "source": [
    "<center>\n",
    "    <b>Nhóm thực hiện:</b>\n",
    "    <br> Trần Minh Trí - 1712834\n",
    "    <br> Nguyễn Nhật Trường - 1712852\n",
    "    <br> Nguyễn Duy Khải - 1712513\n",
    "    <br> Võ Nhật Thịnh - 1712796\n",
    "    <br> Nguyễn Phước Sang - 1712719\n",
    "</center>"
   ]
  },
  {
   "cell_type": "markdown",
   "metadata": {},
   "source": [
    "<hr>"
   ]
  },
  {
   "cell_type": "markdown",
   "metadata": {},
   "source": [
    "#### Các thư viện hỗ trợ"
   ]
  },
  {
   "cell_type": "code",
   "execution_count": 1,
   "metadata": {},
   "outputs": [],
   "source": [
    "import numpy as np\n",
    "import pandas as pd\n",
    "import matplotlib.pyplot as plt\n",
    "import matplotlib.image as mpimg\n",
    "import math\n",
    "from tensorflow.keras.datasets.mnist import load_data\n",
    "\n",
    "from sklearn import preprocessing\n",
    "from sklearn import linear_model\n",
    "from sklearn.model_selection import train_test_split\n",
    "from sklearn.metrics import mean_squared_error\n",
    "from sklearn.preprocessing import StandardScaler\n",
    "from sklearn.metrics import confusion_matrix\n",
    "from sklearn.model_selection import KFold\n",
    "\n",
    "import pickle\n",
    "import os.path\n",
    "\n",
    "%matplotlib inline\n",
    "import matplotlib.pyplot as plt\n",
    "\n",
    "from progressbar import Percentage, ProgressBar,Bar,ETA\n",
    "import time"
   ]
  },
  {
   "cell_type": "markdown",
   "metadata": {},
   "source": [
    "# I. Dữ liệu"
   ]
  },
  {
   "cell_type": "markdown",
   "metadata": {},
   "source": [
    "Dữ liệu MNIST thu thập bằng tensorflow (tensorflow.keras.datasets.mnist)"
   ]
  },
  {
   "cell_type": "markdown",
   "metadata": {},
   "source": [
    "## 1. Thu thập dữ liệu"
   ]
  },
  {
   "cell_type": "code",
   "execution_count": 2,
   "metadata": {
    "scrolled": true
   },
   "outputs": [],
   "source": [
    "(x_train, y_train), (x_test, y_test) = load_data()\n",
    "assert x_train.shape == (60000, 28, 28)\n",
    "assert x_test.shape == (10000, 28, 28)\n",
    "assert y_train.shape == (60000,)\n",
    "assert y_test.shape == (10000,)"
   ]
  },
  {
   "cell_type": "code",
   "execution_count": 3,
   "metadata": {},
   "outputs": [
    {
     "data": {
      "text/plain": [
       "((60000, 784), (10000, 784))"
      ]
     },
     "execution_count": 3,
     "metadata": {},
     "output_type": "execute_result"
    }
   ],
   "source": [
    "x_train = x_train.reshape(x_train.shape[0], x_train.shape[1] * x_train.shape[2])\n",
    "x_test = x_test.reshape(x_test.shape[0], x_test.shape[1] * x_test.shape[2])\n",
    "x_train.shape, x_test.shape"
   ]
  },
  {
   "cell_type": "code",
   "execution_count": 4,
   "metadata": {
    "scrolled": true
   },
   "outputs": [
    {
     "data": {
      "text/html": [
       "<div>\n",
       "<style scoped>\n",
       "    .dataframe tbody tr th:only-of-type {\n",
       "        vertical-align: middle;\n",
       "    }\n",
       "\n",
       "    .dataframe tbody tr th {\n",
       "        vertical-align: top;\n",
       "    }\n",
       "\n",
       "    .dataframe thead th {\n",
       "        text-align: right;\n",
       "    }\n",
       "</style>\n",
       "<table border=\"1\" class=\"dataframe\">\n",
       "  <thead>\n",
       "    <tr style=\"text-align: right;\">\n",
       "      <th></th>\n",
       "      <th>label</th>\n",
       "      <th>pixel_1</th>\n",
       "      <th>pixel_2</th>\n",
       "      <th>pixel_3</th>\n",
       "      <th>pixel_4</th>\n",
       "      <th>pixel_5</th>\n",
       "      <th>pixel_6</th>\n",
       "      <th>pixel_7</th>\n",
       "      <th>pixel_8</th>\n",
       "      <th>pixel_9</th>\n",
       "      <th>...</th>\n",
       "      <th>pixel_775</th>\n",
       "      <th>pixel_776</th>\n",
       "      <th>pixel_777</th>\n",
       "      <th>pixel_778</th>\n",
       "      <th>pixel_779</th>\n",
       "      <th>pixel_780</th>\n",
       "      <th>pixel_781</th>\n",
       "      <th>pixel_782</th>\n",
       "      <th>pixel_783</th>\n",
       "      <th>pixel_784</th>\n",
       "    </tr>\n",
       "  </thead>\n",
       "  <tbody>\n",
       "    <tr>\n",
       "      <th>0</th>\n",
       "      <td>5</td>\n",
       "      <td>0</td>\n",
       "      <td>0</td>\n",
       "      <td>0</td>\n",
       "      <td>0</td>\n",
       "      <td>0</td>\n",
       "      <td>0</td>\n",
       "      <td>0</td>\n",
       "      <td>0</td>\n",
       "      <td>0</td>\n",
       "      <td>...</td>\n",
       "      <td>0</td>\n",
       "      <td>0</td>\n",
       "      <td>0</td>\n",
       "      <td>0</td>\n",
       "      <td>0</td>\n",
       "      <td>0</td>\n",
       "      <td>0</td>\n",
       "      <td>0</td>\n",
       "      <td>0</td>\n",
       "      <td>0</td>\n",
       "    </tr>\n",
       "    <tr>\n",
       "      <th>1</th>\n",
       "      <td>0</td>\n",
       "      <td>0</td>\n",
       "      <td>0</td>\n",
       "      <td>0</td>\n",
       "      <td>0</td>\n",
       "      <td>0</td>\n",
       "      <td>0</td>\n",
       "      <td>0</td>\n",
       "      <td>0</td>\n",
       "      <td>0</td>\n",
       "      <td>...</td>\n",
       "      <td>0</td>\n",
       "      <td>0</td>\n",
       "      <td>0</td>\n",
       "      <td>0</td>\n",
       "      <td>0</td>\n",
       "      <td>0</td>\n",
       "      <td>0</td>\n",
       "      <td>0</td>\n",
       "      <td>0</td>\n",
       "      <td>0</td>\n",
       "    </tr>\n",
       "    <tr>\n",
       "      <th>2</th>\n",
       "      <td>4</td>\n",
       "      <td>0</td>\n",
       "      <td>0</td>\n",
       "      <td>0</td>\n",
       "      <td>0</td>\n",
       "      <td>0</td>\n",
       "      <td>0</td>\n",
       "      <td>0</td>\n",
       "      <td>0</td>\n",
       "      <td>0</td>\n",
       "      <td>...</td>\n",
       "      <td>0</td>\n",
       "      <td>0</td>\n",
       "      <td>0</td>\n",
       "      <td>0</td>\n",
       "      <td>0</td>\n",
       "      <td>0</td>\n",
       "      <td>0</td>\n",
       "      <td>0</td>\n",
       "      <td>0</td>\n",
       "      <td>0</td>\n",
       "    </tr>\n",
       "    <tr>\n",
       "      <th>3</th>\n",
       "      <td>1</td>\n",
       "      <td>0</td>\n",
       "      <td>0</td>\n",
       "      <td>0</td>\n",
       "      <td>0</td>\n",
       "      <td>0</td>\n",
       "      <td>0</td>\n",
       "      <td>0</td>\n",
       "      <td>0</td>\n",
       "      <td>0</td>\n",
       "      <td>...</td>\n",
       "      <td>0</td>\n",
       "      <td>0</td>\n",
       "      <td>0</td>\n",
       "      <td>0</td>\n",
       "      <td>0</td>\n",
       "      <td>0</td>\n",
       "      <td>0</td>\n",
       "      <td>0</td>\n",
       "      <td>0</td>\n",
       "      <td>0</td>\n",
       "    </tr>\n",
       "    <tr>\n",
       "      <th>4</th>\n",
       "      <td>9</td>\n",
       "      <td>0</td>\n",
       "      <td>0</td>\n",
       "      <td>0</td>\n",
       "      <td>0</td>\n",
       "      <td>0</td>\n",
       "      <td>0</td>\n",
       "      <td>0</td>\n",
       "      <td>0</td>\n",
       "      <td>0</td>\n",
       "      <td>...</td>\n",
       "      <td>0</td>\n",
       "      <td>0</td>\n",
       "      <td>0</td>\n",
       "      <td>0</td>\n",
       "      <td>0</td>\n",
       "      <td>0</td>\n",
       "      <td>0</td>\n",
       "      <td>0</td>\n",
       "      <td>0</td>\n",
       "      <td>0</td>\n",
       "    </tr>\n",
       "  </tbody>\n",
       "</table>\n",
       "<p>5 rows × 785 columns</p>\n",
       "</div>"
      ],
      "text/plain": [
       "   label  pixel_1  pixel_2  pixel_3  pixel_4  pixel_5  pixel_6  pixel_7  \\\n",
       "0      5        0        0        0        0        0        0        0   \n",
       "1      0        0        0        0        0        0        0        0   \n",
       "2      4        0        0        0        0        0        0        0   \n",
       "3      1        0        0        0        0        0        0        0   \n",
       "4      9        0        0        0        0        0        0        0   \n",
       "\n",
       "   pixel_8  pixel_9  ...  pixel_775  pixel_776  pixel_777  pixel_778  \\\n",
       "0        0        0  ...          0          0          0          0   \n",
       "1        0        0  ...          0          0          0          0   \n",
       "2        0        0  ...          0          0          0          0   \n",
       "3        0        0  ...          0          0          0          0   \n",
       "4        0        0  ...          0          0          0          0   \n",
       "\n",
       "   pixel_779  pixel_780  pixel_781  pixel_782  pixel_783  pixel_784  \n",
       "0          0          0          0          0          0          0  \n",
       "1          0          0          0          0          0          0  \n",
       "2          0          0          0          0          0          0  \n",
       "3          0          0          0          0          0          0  \n",
       "4          0          0          0          0          0          0  \n",
       "\n",
       "[5 rows x 785 columns]"
      ]
     },
     "execution_count": 4,
     "metadata": {},
     "output_type": "execute_result"
    }
   ],
   "source": [
    "data = pd.DataFrame(x_train, columns = ['pixel_{0}'.format(i+1) for i in range(x_train.shape[1])])\n",
    "data.insert(0, 'label', y_train)\n",
    "data.head()"
   ]
  },
  {
   "cell_type": "markdown",
   "metadata": {},
   "source": [
    "## 2. Hiển thị một số hình ảnh và nhãn"
   ]
  },
  {
   "cell_type": "code",
   "execution_count": 5,
   "metadata": {},
   "outputs": [
    {
     "data": {
      "image/png": "[encoded data removed]",
      "text/plain": [
       "<Figure size 720x720 with 25 Axes>"
      ]
     },
     "metadata": {},
     "output_type": "display_data"
    }
   ],
   "source": [
    "def plot_img(data, numbers_image):\n",
    "    cells = math.ceil(math.sqrt(numbers_image))\n",
    "\n",
    "    plt.figure(figsize=(10, 10))\n",
    "\n",
    "    for index in range(numbers_image):\n",
    "        value = data[index : index + 1].values\n",
    "        digit_pixels = value[0][1:]\n",
    "\n",
    "        image_size = int(math.sqrt(digit_pixels.shape[0]))\n",
    "\n",
    "        matrix = digit_pixels.reshape((image_size, image_size))\n",
    "\n",
    "        plt.subplot(cells, cells, index + 1)\n",
    "        plt.imshow(matrix, cmap='Greys')\n",
    "        plt.xlabel(value[0][0])\n",
    "        plt.tick_params(axis='both', which='both', bottom=False, left=False, labelbottom=False, labelleft=False)\n",
    "\n",
    "    plt.subplots_adjust(hspace=1, wspace=1)\n",
    "    plt.show()\n",
    "    \n",
    "plot_img(data, 25)"
   ]
  },
  {
   "cell_type": "markdown",
   "metadata": {},
   "source": [
    "# II. Tiền xử lí"
   ]
  },
  {
   "cell_type": "code",
   "execution_count": 6,
   "metadata": {},
   "outputs": [],
   "source": [
    "X = data.values[:, 1:]\n",
    "Y = data.values[:, [0]]"
   ]
  },
  {
   "cell_type": "markdown",
   "metadata": {},
   "source": [
    "## 1. Tách tập dữ liệu huấn luyện"
   ]
  },
  {
   "cell_type": "markdown",
   "metadata": {},
   "source": [
    "Dữ liệu huấn luyện được tách "
   ]
  },
  {
   "cell_type": "code",
   "execution_count": 7,
   "metadata": {},
   "outputs": [],
   "source": [
    "kf = KFold(n_splits=5)"
   ]
  },
  {
   "cell_type": "code",
   "execution_count": 8,
   "metadata": {},
   "outputs": [],
   "source": [
    "X_train, X_val = [], []\n",
    "Y_train, Y_val = [], []\n",
    "\n",
    "for train_index, val_index in kf.split(X):\n",
    "    X_train.append(X[train_index])\n",
    "    X_val.append(X[val_index])\n",
    "    Y_train.append(Y[train_index])\n",
    "    Y_val.append(Y[val_index])"
   ]
  },
  {
   "cell_type": "code",
   "execution_count": 9,
   "metadata": {
    "scrolled": true
   },
   "outputs": [
    {
     "data": {
      "text/plain": [
       "(5, 5)"
      ]
     },
     "execution_count": 9,
     "metadata": {},
     "output_type": "execute_result"
    }
   ],
   "source": [
    "len(X_train), len(X_val)"
   ]
  },
  {
   "cell_type": "code",
   "execution_count": 10,
   "metadata": {
    "scrolled": true
   },
   "outputs": [
    {
     "data": {
      "text/plain": [
       "((48000, 784), (12000, 784))"
      ]
     },
     "execution_count": 10,
     "metadata": {},
     "output_type": "execute_result"
    }
   ],
   "source": [
    "X_train[0].shape, X_val[0].shape"
   ]
  },
  {
   "cell_type": "markdown",
   "metadata": {},
   "source": [
    "## 2. Xử lí dữ liệu"
   ]
  },
  {
   "cell_type": "markdown",
   "metadata": {},
   "source": [
    "### 2.1. Loại bỏ các pixel hằng\n",
    "\n",
    "Loại bỏ các pixel luôn mang giá trị 0 (luôn trắng) hoặc 255 (luôn đen) không có ý nghĩa trong việc phân loại."
   ]
  },
  {
   "cell_type": "code",
   "execution_count": 11,
   "metadata": {},
   "outputs": [],
   "source": [
    "# Ai tối ưu đc thì sửa nha vì mình chỉ biết đổi qua pandas thoy\n",
    "def drop_const_pixel(train, to_drop = None):\n",
    "    df = pd.DataFrame(train, columns = ['pixel_{0}'.format(i+1) for i in range(train.shape[1])])\n",
    "    if to_drop is None:\n",
    "        to_drop = []\n",
    "        for c in df.columns:\n",
    "            if max(df[c]) == 0 or min(df[c]) == 255:\n",
    "                to_drop.append(c)\n",
    "            \n",
    "    df.drop(to_drop, axis = 1, inplace = True)\n",
    "    \n",
    "    return df.values, to_drop"
   ]
  },
  {
   "cell_type": "markdown",
   "metadata": {},
   "source": [
    "### 2.2. Chuẩn hoá"
   ]
  },
  {
   "cell_type": "markdown",
   "metadata": {},
   "source": [
    "Chuẩn hóa bằng StandardScaler"
   ]
  },
  {
   "cell_type": "code",
   "execution_count": 12,
   "metadata": {},
   "outputs": [],
   "source": [
    "def normalize(train, val):\n",
    "    scalers = []\n",
    "    drop_cols = []\n",
    "    scaled_X_train, scaled_X_val = [], []\n",
    "    \n",
    "    pbar = ProgressBar(widgets=[Bar('=', '[', ']'), ' ', Percentage(), ' ', ETA()],\n",
    "                       maxval=100).start()\n",
    "\n",
    "    for i in pbar(range(len(train))):\n",
    "        train_i, drop_col = drop_const_pixel(train[i])\n",
    "        if val is not None:\n",
    "            val_i, _ = drop_const_pixel(val[i], drop_col)\n",
    "        s = StandardScaler().fit(train_i)\n",
    "\n",
    "        scaled_X_train.append(s.transform(train_i))\n",
    "        if val is not None:\n",
    "            scaled_X_val.append(s.transform(val_i))\n",
    "\n",
    "        scalers.append(s)\n",
    "        drop_cols.append(drop_col)\n",
    "        \n",
    "    return scaled_X_train, scaled_X_val, scalers, drop_cols"
   ]
  },
  {
   "cell_type": "markdown",
   "metadata": {},
   "source": [
    "Chuẩn hóa bằng cách chuyển mọi pixel thàng trắng hoặc đen (0-1)"
   ]
  },
  {
   "cell_type": "code",
   "execution_count": 13,
   "metadata": {},
   "outputs": [],
   "source": [
    "# Ai tối ưu đc thì sửa nha vì mình chỉ biết đổi qua pandas thoy\n",
    "def intensity_rescaling(train):\n",
    "    df = pd.DataFrame(train, columns = ['pixel_{0}'.format(i+1) for i in range(train.shape[1])])\n",
    "    \n",
    "    df[df < 128] = 0\n",
    "    df[df >= 128] = 1\n",
    "    \n",
    "    return df.values"
   ]
  },
  {
   "cell_type": "code",
   "execution_count": 14,
   "metadata": {},
   "outputs": [],
   "source": [
    "def rescaling(train, val):\n",
    "    scaled_X_train, scaled_X_val = [], []\n",
    "    drop_cols = []\n",
    "    \n",
    "    pbar = ProgressBar(widgets=[Bar('=', '[', ']'), ' ', Percentage(), ' ', ETA()],\n",
    "                       maxval=100).start()\n",
    "    \n",
    "    for i in pbar(range(len(train))):\n",
    "        train_i, drop_col = drop_const_pixel(train[i])\n",
    "        if val is not None:\n",
    "            val_i, _ = drop_const_pixel(val[i], drop_col)\n",
    "        \n",
    "        scaled_X_train.append(intensity_rescaling(train_i))\n",
    "        if val is not None:\n",
    "            scaled_X_val.append(intensity_rescaling(val_i))\n",
    "        \n",
    "        drop_cols.append(drop_col)\n",
    "        \n",
    "    return scaled_X_train, scaled_X_val, drop_cols"
   ]
  },
  {
   "cell_type": "code",
   "execution_count": 15,
   "metadata": {},
   "outputs": [
    {
     "name": "stderr",
     "output_type": "stream",
     "text": [
      "[==========================================================] 100% Time: 0:01:05\n",
      "[==========================================================] 100% Time: 0:01:05\n"
     ]
    }
   ],
   "source": [
    "norm_X_train, norm_X_val, scalers, norm_drop_col = normalize(X_train, X_val)\n",
    "rescaled_X_train, rescaled_X_val, rescale_drop_col = rescaling(X_train, X_val)"
   ]
  },
  {
   "cell_type": "markdown",
   "metadata": {},
   "source": [
    "# III. Hồi quy Logistic"
   ]
  },
  {
   "cell_type": "markdown",
   "metadata": {},
   "source": [
    "## 1. Huấn luyện và tìm mô hình tốt nhất"
   ]
  },
  {
   "cell_type": "code",
   "execution_count": 16,
   "metadata": {},
   "outputs": [],
   "source": [
    "def run_test(train_X, train_Y, val_X, val_Y, C, solver):\n",
    "    model = linear_model.LogisticRegression(C=C, solver=solver, max_iter=200)\n",
    "    \n",
    "    train_score, val_score = [], []\n",
    "    for i in range(len(train_X)):\n",
    "        t_X, t_Y = train_X[i], train_Y[i]\n",
    "        v_X, v_Y = val_X[i], val_Y[i]\n",
    "        \n",
    "        model.fit(t_X, t_Y.reshape(t_Y.shape[0],))\n",
    "        \n",
    "        train_score.append(model.score(t_X, t_Y.reshape(t_Y.shape[0],)))\n",
    "        val_score.append(model.score(v_X, v_Y.reshape(v_Y.shape[0],)))\n",
    "    \n",
    "    return model, np.mean(train_score), np.mean(val_score)"
   ]
  },
  {
   "cell_type": "code",
   "execution_count": 17,
   "metadata": {},
   "outputs": [],
   "source": [
    "def run_multi_test(train_X, train_Y, val_X, val_Y, Cs, solvers, saved_result_to):\n",
    "    train_score, test_score = [], []\n",
    "    config = []\n",
    "    \n",
    "    if not os.path.isfile(saved_result_to):\n",
    "        with open(saved_result_to, \"w\") as file:\n",
    "            file.write(\"Config, Train_Score, Val_Score\\n\")\n",
    "            file.close()\n",
    "            \n",
    "    _ts = time.time()\n",
    "    \n",
    "    for s in solvers:\n",
    "        print(' Sovlers:', s)\n",
    "        for c in Cs:\n",
    "            es = time.time()\n",
    "            print('   + C:', c)\n",
    "            model, ts, vs = run_test(train_X, train_Y, val_X, val_Y, c, s)\n",
    "            \n",
    "            with open(saved_result_to, \"a\") as file:\n",
    "                file.write(\"({0}; {1}), {2}, {3}\\n\".format(s, c, ts, vs))\n",
    "                file.close()\n",
    "            \n",
    "            config.append((s, c))\n",
    "            train_score.append(ts)\n",
    "            test_score.append(vs)\n",
    "            \n",
    "            print('     ', ts, vs)\n",
    "            \n",
    "            print('     Elapsed: ', np.round(time.time() - es, 2), 's, total: ', \\\n",
    "                  np.round((time.time() - _ts) / 60, 2), 'm', sep='')\n",
    "            \n",
    "            \n",
    "    result = pd.DataFrame(list(zip(config, train_score, test_score)), \\\n",
    "                  columns =['Config', 'Train Score', 'Test Score'])\n",
    "    \n",
    "    return result"
   ]
  },
  {
   "cell_type": "code",
   "execution_count": 18,
   "metadata": {},
   "outputs": [],
   "source": [
    "Cs = [10, 5, 3, 2, 1, 0.1, 0.01, 0.001]\n",
    "solvers = ['lbfgs', 'sag', 'saga']"
   ]
  },
  {
   "cell_type": "code",
   "execution_count": 19,
   "metadata": {
    "scrolled": true
   },
   "outputs": [
    {
     "data": {
      "text/html": [
       "<div>\n",
       "<style scoped>\n",
       "    .dataframe tbody tr th:only-of-type {\n",
       "        vertical-align: middle;\n",
       "    }\n",
       "\n",
       "    .dataframe tbody tr th {\n",
       "        vertical-align: top;\n",
       "    }\n",
       "\n",
       "    .dataframe thead th {\n",
       "        text-align: right;\n",
       "    }\n",
       "</style>\n",
       "<table border=\"1\" class=\"dataframe\">\n",
       "  <thead>\n",
       "    <tr style=\"text-align: right;\">\n",
       "      <th></th>\n",
       "      <th>Config</th>\n",
       "      <th>Train_Score</th>\n",
       "      <th>Val_Score</th>\n",
       "    </tr>\n",
       "  </thead>\n",
       "  <tbody>\n",
       "    <tr>\n",
       "      <th>0</th>\n",
       "      <td>('lbfgs'; 1)</td>\n",
       "      <td>0.947258</td>\n",
       "      <td>0.911700</td>\n",
       "    </tr>\n",
       "    <tr>\n",
       "      <th>1</th>\n",
       "      <td>('lbfgs'; 0.1)</td>\n",
       "      <td>0.944625</td>\n",
       "      <td>0.918200</td>\n",
       "    </tr>\n",
       "    <tr>\n",
       "      <th>2</th>\n",
       "      <td>('lbfgs'; 0.01)</td>\n",
       "      <td>0.936917</td>\n",
       "      <td>0.921950</td>\n",
       "    </tr>\n",
       "    <tr>\n",
       "      <th>3</th>\n",
       "      <td>('lbfgs'; 0.001)</td>\n",
       "      <td>0.921925</td>\n",
       "      <td>0.914850</td>\n",
       "    </tr>\n",
       "    <tr>\n",
       "      <th>4</th>\n",
       "      <td>('sag'; 1)</td>\n",
       "      <td>0.935092</td>\n",
       "      <td>0.919933</td>\n",
       "    </tr>\n",
       "    <tr>\n",
       "      <th>5</th>\n",
       "      <td>('sag'; 0.1)</td>\n",
       "      <td>0.934833</td>\n",
       "      <td>0.919850</td>\n",
       "    </tr>\n",
       "    <tr>\n",
       "      <th>6</th>\n",
       "      <td>('sag'; 0.01)</td>\n",
       "      <td>0.932954</td>\n",
       "      <td>0.919617</td>\n",
       "    </tr>\n",
       "    <tr>\n",
       "      <th>7</th>\n",
       "      <td>('sag'; 0.001)</td>\n",
       "      <td>0.920671</td>\n",
       "      <td>0.913500</td>\n",
       "    </tr>\n",
       "    <tr>\n",
       "      <th>8</th>\n",
       "      <td>('saga'; 1)</td>\n",
       "      <td>0.930958</td>\n",
       "      <td>0.918933</td>\n",
       "    </tr>\n",
       "    <tr>\n",
       "      <th>9</th>\n",
       "      <td>('saga'; 0.1)</td>\n",
       "      <td>0.930792</td>\n",
       "      <td>0.918850</td>\n",
       "    </tr>\n",
       "    <tr>\n",
       "      <th>10</th>\n",
       "      <td>('saga'; 0.01)</td>\n",
       "      <td>0.929496</td>\n",
       "      <td>0.918167</td>\n",
       "    </tr>\n",
       "    <tr>\n",
       "      <th>11</th>\n",
       "      <td>('saga'; 0.001)</td>\n",
       "      <td>0.919837</td>\n",
       "      <td>0.912567</td>\n",
       "    </tr>\n",
       "    <tr>\n",
       "      <th>12</th>\n",
       "      <td>(lbfgs; 2)</td>\n",
       "      <td>0.947512</td>\n",
       "      <td>0.910667</td>\n",
       "    </tr>\n",
       "    <tr>\n",
       "      <th>13</th>\n",
       "      <td>(lbfgs; 3)</td>\n",
       "      <td>0.947579</td>\n",
       "      <td>0.910117</td>\n",
       "    </tr>\n",
       "    <tr>\n",
       "      <th>14</th>\n",
       "      <td>(lbfgs; 5)</td>\n",
       "      <td>0.947688</td>\n",
       "      <td>0.909733</td>\n",
       "    </tr>\n",
       "    <tr>\n",
       "      <th>15</th>\n",
       "      <td>(lbfgs; 10)</td>\n",
       "      <td>0.947529</td>\n",
       "      <td>0.909400</td>\n",
       "    </tr>\n",
       "    <tr>\n",
       "      <th>16</th>\n",
       "      <td>(sag; 2)</td>\n",
       "      <td>0.935104</td>\n",
       "      <td>0.919933</td>\n",
       "    </tr>\n",
       "    <tr>\n",
       "      <th>17</th>\n",
       "      <td>(sag; 3)</td>\n",
       "      <td>0.935108</td>\n",
       "      <td>0.919967</td>\n",
       "    </tr>\n",
       "    <tr>\n",
       "      <th>18</th>\n",
       "      <td>(sag; 5)</td>\n",
       "      <td>0.935117</td>\n",
       "      <td>0.920017</td>\n",
       "    </tr>\n",
       "    <tr>\n",
       "      <th>19</th>\n",
       "      <td>(sag; 10)</td>\n",
       "      <td>0.935125</td>\n",
       "      <td>0.919950</td>\n",
       "    </tr>\n",
       "    <tr>\n",
       "      <th>20</th>\n",
       "      <td>(saga; 2)</td>\n",
       "      <td>0.930958</td>\n",
       "      <td>0.918967</td>\n",
       "    </tr>\n",
       "    <tr>\n",
       "      <th>21</th>\n",
       "      <td>(saga; 3)</td>\n",
       "      <td>0.930950</td>\n",
       "      <td>0.918983</td>\n",
       "    </tr>\n",
       "    <tr>\n",
       "      <th>22</th>\n",
       "      <td>(saga; 5)</td>\n",
       "      <td>0.930958</td>\n",
       "      <td>0.919000</td>\n",
       "    </tr>\n",
       "    <tr>\n",
       "      <th>23</th>\n",
       "      <td>(saga; 10)</td>\n",
       "      <td>0.930937</td>\n",
       "      <td>0.919033</td>\n",
       "    </tr>\n",
       "  </tbody>\n",
       "</table>\n",
       "</div>"
      ],
      "text/plain": [
       "              Config   Train_Score   Val_Score\n",
       "0       ('lbfgs'; 1)      0.947258    0.911700\n",
       "1     ('lbfgs'; 0.1)      0.944625    0.918200\n",
       "2    ('lbfgs'; 0.01)      0.936917    0.921950\n",
       "3   ('lbfgs'; 0.001)      0.921925    0.914850\n",
       "4         ('sag'; 1)      0.935092    0.919933\n",
       "5       ('sag'; 0.1)      0.934833    0.919850\n",
       "6      ('sag'; 0.01)      0.932954    0.919617\n",
       "7     ('sag'; 0.001)      0.920671    0.913500\n",
       "8        ('saga'; 1)      0.930958    0.918933\n",
       "9      ('saga'; 0.1)      0.930792    0.918850\n",
       "10    ('saga'; 0.01)      0.929496    0.918167\n",
       "11   ('saga'; 0.001)      0.919837    0.912567\n",
       "12        (lbfgs; 2)      0.947512    0.910667\n",
       "13        (lbfgs; 3)      0.947579    0.910117\n",
       "14        (lbfgs; 5)      0.947688    0.909733\n",
       "15       (lbfgs; 10)      0.947529    0.909400\n",
       "16          (sag; 2)      0.935104    0.919933\n",
       "17          (sag; 3)      0.935108    0.919967\n",
       "18          (sag; 5)      0.935117    0.920017\n",
       "19         (sag; 10)      0.935125    0.919950\n",
       "20         (saga; 2)      0.930958    0.918967\n",
       "21         (saga; 3)      0.930950    0.918983\n",
       "22         (saga; 5)      0.930958    0.919000\n",
       "23        (saga; 10)      0.930937    0.919033"
      ]
     },
     "execution_count": 19,
     "metadata": {},
     "output_type": "execute_result"
    }
   ],
   "source": [
    "#norm_result = run_multi_test(norm_X_train, Y_train, norm_X_val, Y_val, Cs, solvers, 'Norm_result.csv')\n",
    "norm_result = pd.read_csv('Norm_result.csv')\n",
    "norm_result"
   ]
  },
  {
   "cell_type": "code",
   "execution_count": 20,
   "metadata": {},
   "outputs": [
    {
     "data": {
      "text/plain": [
       "Config          ('lbfgs'; 0.01)\n",
       " Train_Score           0.936917\n",
       " Val_Score              0.92195\n",
       "Name: 2, dtype: object"
      ]
     },
     "execution_count": 20,
     "metadata": {},
     "output_type": "execute_result"
    }
   ],
   "source": [
    "norm_result.loc[norm_result[' Val_Score'].argmax()] "
   ]
  },
  {
   "cell_type": "code",
   "execution_count": 21,
   "metadata": {
    "scrolled": true
   },
   "outputs": [
    {
     "data": {
      "text/html": [
       "<div>\n",
       "<style scoped>\n",
       "    .dataframe tbody tr th:only-of-type {\n",
       "        vertical-align: middle;\n",
       "    }\n",
       "\n",
       "    .dataframe tbody tr th {\n",
       "        vertical-align: top;\n",
       "    }\n",
       "\n",
       "    .dataframe thead th {\n",
       "        text-align: right;\n",
       "    }\n",
       "</style>\n",
       "<table border=\"1\" class=\"dataframe\">\n",
       "  <thead>\n",
       "    <tr style=\"text-align: right;\">\n",
       "      <th></th>\n",
       "      <th>Config</th>\n",
       "      <th>Train_Score</th>\n",
       "      <th>Val_Score</th>\n",
       "    </tr>\n",
       "  </thead>\n",
       "  <tbody>\n",
       "    <tr>\n",
       "      <th>0</th>\n",
       "      <td>('lbfgs'; 1)</td>\n",
       "      <td>0.936592</td>\n",
       "      <td>0.910050</td>\n",
       "    </tr>\n",
       "    <tr>\n",
       "      <th>1</th>\n",
       "      <td>('lbfgs'; 0.1)</td>\n",
       "      <td>0.929446</td>\n",
       "      <td>0.912517</td>\n",
       "    </tr>\n",
       "    <tr>\n",
       "      <th>2</th>\n",
       "      <td>('lbfgs'; 0.01)</td>\n",
       "      <td>0.915125</td>\n",
       "      <td>0.907017</td>\n",
       "    </tr>\n",
       "    <tr>\n",
       "      <th>3</th>\n",
       "      <td>('lbfgs'; 0.001)</td>\n",
       "      <td>0.889450</td>\n",
       "      <td>0.886083</td>\n",
       "    </tr>\n",
       "    <tr>\n",
       "      <th>4</th>\n",
       "      <td>('sag'; 1)</td>\n",
       "      <td>0.937250</td>\n",
       "      <td>0.910350</td>\n",
       "    </tr>\n",
       "    <tr>\n",
       "      <th>5</th>\n",
       "      <td>('sag'; 0.1)</td>\n",
       "      <td>0.929417</td>\n",
       "      <td>0.912650</td>\n",
       "    </tr>\n",
       "    <tr>\n",
       "      <th>6</th>\n",
       "      <td>('sag'; 0.01)</td>\n",
       "      <td>0.915125</td>\n",
       "      <td>0.907017</td>\n",
       "    </tr>\n",
       "    <tr>\n",
       "      <th>7</th>\n",
       "      <td>('sag'; 0.001)</td>\n",
       "      <td>0.889458</td>\n",
       "      <td>0.886083</td>\n",
       "    </tr>\n",
       "    <tr>\n",
       "      <th>8</th>\n",
       "      <td>('saga'; 1)</td>\n",
       "      <td>0.937037</td>\n",
       "      <td>0.910317</td>\n",
       "    </tr>\n",
       "    <tr>\n",
       "      <th>9</th>\n",
       "      <td>('saga'; 0.1)</td>\n",
       "      <td>0.929408</td>\n",
       "      <td>0.912650</td>\n",
       "    </tr>\n",
       "    <tr>\n",
       "      <th>10</th>\n",
       "      <td>('saga'; 0.01)</td>\n",
       "      <td>0.915129</td>\n",
       "      <td>0.907017</td>\n",
       "    </tr>\n",
       "    <tr>\n",
       "      <th>11</th>\n",
       "      <td>('saga'; 0.001)</td>\n",
       "      <td>0.889462</td>\n",
       "      <td>0.886083</td>\n",
       "    </tr>\n",
       "    <tr>\n",
       "      <th>12</th>\n",
       "      <td>(lbfgs; 2)</td>\n",
       "      <td>0.937108</td>\n",
       "      <td>0.909250</td>\n",
       "    </tr>\n",
       "    <tr>\n",
       "      <th>13</th>\n",
       "      <td>(lbfgs; 3)</td>\n",
       "      <td>0.937325</td>\n",
       "      <td>0.908983</td>\n",
       "    </tr>\n",
       "    <tr>\n",
       "      <th>14</th>\n",
       "      <td>(lbfgs; 5)</td>\n",
       "      <td>0.937542</td>\n",
       "      <td>0.907417</td>\n",
       "    </tr>\n",
       "    <tr>\n",
       "      <th>15</th>\n",
       "      <td>(lbfgs; 10)</td>\n",
       "      <td>0.937388</td>\n",
       "      <td>0.908033</td>\n",
       "    </tr>\n",
       "    <tr>\n",
       "      <th>16</th>\n",
       "      <td>(sag; 2)</td>\n",
       "      <td>0.938325</td>\n",
       "      <td>0.909633</td>\n",
       "    </tr>\n",
       "    <tr>\n",
       "      <th>17</th>\n",
       "      <td>(sag; 3)</td>\n",
       "      <td>0.938758</td>\n",
       "      <td>0.908683</td>\n",
       "    </tr>\n",
       "    <tr>\n",
       "      <th>18</th>\n",
       "      <td>(sag; 5)</td>\n",
       "      <td>0.939058</td>\n",
       "      <td>0.908033</td>\n",
       "    </tr>\n",
       "    <tr>\n",
       "      <th>19</th>\n",
       "      <td>(sag; 10)</td>\n",
       "      <td>0.939237</td>\n",
       "      <td>0.907567</td>\n",
       "    </tr>\n",
       "    <tr>\n",
       "      <th>20</th>\n",
       "      <td>(saga; 2)</td>\n",
       "      <td>0.937900</td>\n",
       "      <td>0.909800</td>\n",
       "    </tr>\n",
       "    <tr>\n",
       "      <th>21</th>\n",
       "      <td>(saga; 3)</td>\n",
       "      <td>0.938179</td>\n",
       "      <td>0.909533</td>\n",
       "    </tr>\n",
       "    <tr>\n",
       "      <th>22</th>\n",
       "      <td>(saga; 5)</td>\n",
       "      <td>0.938312</td>\n",
       "      <td>0.909067</td>\n",
       "    </tr>\n",
       "    <tr>\n",
       "      <th>23</th>\n",
       "      <td>(saga; 10)</td>\n",
       "      <td>0.938525</td>\n",
       "      <td>0.908917</td>\n",
       "    </tr>\n",
       "  </tbody>\n",
       "</table>\n",
       "</div>"
      ],
      "text/plain": [
       "              Config   Train_Score   Val_Score\n",
       "0       ('lbfgs'; 1)      0.936592    0.910050\n",
       "1     ('lbfgs'; 0.1)      0.929446    0.912517\n",
       "2    ('lbfgs'; 0.01)      0.915125    0.907017\n",
       "3   ('lbfgs'; 0.001)      0.889450    0.886083\n",
       "4         ('sag'; 1)      0.937250    0.910350\n",
       "5       ('sag'; 0.1)      0.929417    0.912650\n",
       "6      ('sag'; 0.01)      0.915125    0.907017\n",
       "7     ('sag'; 0.001)      0.889458    0.886083\n",
       "8        ('saga'; 1)      0.937037    0.910317\n",
       "9      ('saga'; 0.1)      0.929408    0.912650\n",
       "10    ('saga'; 0.01)      0.915129    0.907017\n",
       "11   ('saga'; 0.001)      0.889462    0.886083\n",
       "12        (lbfgs; 2)      0.937108    0.909250\n",
       "13        (lbfgs; 3)      0.937325    0.908983\n",
       "14        (lbfgs; 5)      0.937542    0.907417\n",
       "15       (lbfgs; 10)      0.937388    0.908033\n",
       "16          (sag; 2)      0.938325    0.909633\n",
       "17          (sag; 3)      0.938758    0.908683\n",
       "18          (sag; 5)      0.939058    0.908033\n",
       "19         (sag; 10)      0.939237    0.907567\n",
       "20         (saga; 2)      0.937900    0.909800\n",
       "21         (saga; 3)      0.938179    0.909533\n",
       "22         (saga; 5)      0.938312    0.909067\n",
       "23        (saga; 10)      0.938525    0.908917"
      ]
     },
     "execution_count": 21,
     "metadata": {},
     "output_type": "execute_result"
    }
   ],
   "source": [
    "#rescaled_result = run_multi_test(rescaled_X_train, Y_train, rescaled_X_val, Y_val, Cs, solvers, 'Rescaled_result.csv')\n",
    "rescaled_result = pd.read_csv('Rescaled_result.csv')\n",
    "rescaled_result"
   ]
  },
  {
   "cell_type": "code",
   "execution_count": 22,
   "metadata": {},
   "outputs": [
    {
     "data": {
      "text/plain": [
       "Config          ('sag'; 0.1)\n",
       " Train_Score        0.929417\n",
       " Val_Score           0.91265\n",
       "Name: 5, dtype: object"
      ]
     },
     "execution_count": 22,
     "metadata": {},
     "output_type": "execute_result"
    }
   ],
   "source": [
    "rescaled_result.loc[rescaled_result[' Val_Score'].argmax()] "
   ]
  },
  {
   "cell_type": "markdown",
   "metadata": {},
   "source": [
    "## 2. Đánh giá mô hình"
   ]
  },
  {
   "cell_type": "code",
   "execution_count": 23,
   "metadata": {},
   "outputs": [
    {
     "name": "stderr",
     "output_type": "stream",
     "text": [
      "[==========================================================] 100% Time: 0:00:10\n",
      "C:\\Users\\user\\AppData\\Local\\Programs\\Python\\Python38\\lib\\site-packages\\sklearn\\linear_model\\_logistic.py:763: ConvergenceWarning: lbfgs failed to converge (status=1):\n",
      "STOP: TOTAL NO. of ITERATIONS REACHED LIMIT.\n",
      "\n",
      "Increase the number of iterations (max_iter) or scale the data as shown in:\n",
      "    https://scikit-learn.org/stable/modules/preprocessing.html\n",
      "Please also refer to the documentation for alternative solver options:\n",
      "    https://scikit-learn.org/stable/modules/linear_model.html#logistic-regression\n",
      "  n_iter_i = _check_optimize_result(\n"
     ]
    },
    {
     "data": {
      "text/plain": [
       "LogisticRegression(C=0.01, max_iter=200)"
      ]
     },
     "execution_count": 23,
     "metadata": {},
     "output_type": "execute_result"
    }
   ],
   "source": [
    "norm_model = linear_model.LogisticRegression(C=0.01, solver='lbfgs', max_iter=200)\n",
    "norm_X, _, scaler, drop_col = normalize([X], val=None)\n",
    "norm_X = norm_X[0]\n",
    "norm_scaler = scaler[0]\n",
    "norm_drop_col = drop_col[0]\n",
    "\n",
    "norm_model.fit(norm_X, Y.reshape(Y.shape[0], ))"
   ]
  },
  {
   "cell_type": "code",
   "execution_count": 24,
   "metadata": {},
   "outputs": [
    {
     "name": "stderr",
     "output_type": "stream",
     "text": [
      "[==========================================================] 100% Time: 0:00:09\n"
     ]
    },
    {
     "data": {
      "text/plain": [
       "LogisticRegression(C=0.1, max_iter=200, solver='sag')"
      ]
     },
     "execution_count": 24,
     "metadata": {},
     "output_type": "execute_result"
    }
   ],
   "source": [
    "rescaled_model = linear_model.LogisticRegression(C=0.1, solver='sag', max_iter=200)\n",
    "rescaled_X, _, drop_col = rescaling([X], val=None)\n",
    "rescaled_X = rescaled_X[0]\n",
    "rescaled_drop_col = drop_col[0]\n",
    "\n",
    "rescaled_model.fit(rescaled_X, Y.reshape(Y.shape[0], ))"
   ]
  },
  {
   "cell_type": "code",
   "execution_count": 25,
   "metadata": {},
   "outputs": [],
   "source": [
    "def plot_confusion_matrix(cm, target_names, title='Confusion matrix', cmap=None, normalize=True):\n",
    "    import matplotlib.pyplot as plt\n",
    "    import numpy as np\n",
    "    import itertools\n",
    "\n",
    "    accuracy = np.trace(cm) / np.sum(cm).astype('float')\n",
    "    misclass = 1 - accuracy\n",
    "\n",
    "    if cmap is None:\n",
    "        cmap = plt.get_cmap('Blues')\n",
    "\n",
    "    plt.figure(figsize=(10, 8))\n",
    "    plt.imshow(cm, interpolation='nearest', cmap=cmap)\n",
    "    plt.title(title)\n",
    "    plt.colorbar()\n",
    "\n",
    "    if target_names is not None:\n",
    "        tick_marks = np.arange(len(target_names))\n",
    "        plt.xticks(tick_marks, target_names, rotation=45)\n",
    "        plt.yticks(tick_marks, target_names)\n",
    "\n",
    "    if normalize:\n",
    "        cm = cm.astype('float') / cm.sum(axis=1)[:, np.newaxis]\n",
    "\n",
    "    thresh = cm.max() / 1.5 if normalize else cm.max() / 2\n",
    "    for i, j in itertools.product(range(cm.shape[0]), range(cm.shape[1])):\n",
    "        if normalize:\n",
    "            if cm[i, j] == 0:\n",
    "                plt.text(j, i, 0,\n",
    "                     horizontalalignment=\"center\",\n",
    "                     color=\"white\" if cm[i, j] > thresh else \"black\")\n",
    "            else:\n",
    "                plt.text(j, i, \"{:0.3f}\".format(cm[i, j]),\n",
    "                     horizontalalignment=\"center\",\n",
    "                     color=\"white\" if cm[i, j] > thresh else \"black\")\n",
    "        else:\n",
    "            plt.text(j, i, \"{:,}\".format(cm[i, j]),\n",
    "                     horizontalalignment=\"center\",\n",
    "                     color=\"white\" if cm[i, j] > thresh else \"black\")\n",
    "\n",
    "\n",
    "    plt.tight_layout()\n",
    "    plt.ylabel('True label')\n",
    "    plt.xlabel('Predicted label\\naccuracy={:0.4f}; misclass={:0.4f}'.format(accuracy, misclass))\n",
    "    plt.show()\n",
    "\n",
    "\n",
    "def model_validation(model, X_train, X_test, Y_train, Y_test):\n",
    "    #in_sample_prediction = model.predict(X_train)\n",
    "    #mse = mean_squared_error(Y_train, in_sample_prediction)\n",
    "    \n",
    "    #print(\"In-sample match: \", model.score(X_train, Y_train)*100, \"%\")\n",
    "    \n",
    "    #plot_confusion_matrix(confusion_matrix(in_sample_prediction,  Y_train), np.unique(Y), title='Confusion matrix Normalized', cmap=None)\n",
    "    #plot_confusion_matrix(confusion_matrix(in_sample_prediction,  Y_train), np.unique(Y), title='Confusion matrix', cmap=None, normalize=False)\n",
    "    \n",
    "    print('---------------------------------------')\n",
    "    prediction = model.predict(X_test)\n",
    "    mse_out =  mean_squared_error(Y_test, prediction)\n",
    "    print(\"Out-sample match: \", model.score(X_test, Y_test)*100, \"%\")\n",
    "    # plot_confusion_matrix(confusion_matrix(prediction,  Y_test), np.unique(Y), title='Confusion matrix Normalized', cmap=None)\n",
    "    plot_confusion_matrix(confusion_matrix(prediction,  Y_test), np.unique(Y), title='Confusion matrix', cmap=None, normalize=False)"
   ]
  },
  {
   "cell_type": "code",
   "execution_count": 26,
   "metadata": {
    "scrolled": false
   },
   "outputs": [
    {
     "name": "stdout",
     "output_type": "stream",
     "text": [
      "---------------------------------------\n",
      "Out-sample match:  92.63 %\n"
     ]
    },
    {
     "data": {
      "image/png": "[encoded data removed]",
      "text/plain": [
       "<Figure size 720x576 with 2 Axes>"
      ]
     },
     "metadata": {
      "needs_background": "light"
     },
     "output_type": "display_data"
    }
   ],
   "source": [
    "_test, _ = drop_const_pixel(x_test, norm_drop_col)\n",
    "\n",
    "norm_x_test = norm_scaler.transform(_test)\n",
    "\n",
    "model_validation(norm_model, norm_X, norm_x_test, Y.reshape(Y.shape[0], ), y_test)"
   ]
  },
  {
   "cell_type": "code",
   "execution_count": 27,
   "metadata": {},
   "outputs": [
    {
     "name": "stdout",
     "output_type": "stream",
     "text": [
      "---------------------------------------\n",
      "Out-sample match:  91.83 %\n"
     ]
    },
    {
     "data": {
      "image/png": "[encoded data removed]",
      "text/plain": [
       "<Figure size 720x576 with 2 Axes>"
      ]
     },
     "metadata": {
      "needs_background": "light"
     },
     "output_type": "display_data"
    }
   ],
   "source": [
    "_test, _ = drop_const_pixel(x_test, rescaled_drop_col)\n",
    "\n",
    "rescaled_x_test = intensity_rescaling(_test)\n",
    "\n",
    "model_validation(rescaled_model, rescaled_X, rescaled_x_test, Y.reshape(Y.shape[0], ), y_test)"
   ]
  },
  {
   "cell_type": "markdown",
   "metadata": {},
   "source": [
    "## 3. Áp dụng Ensemble Learning để nâng cao kết quả dự đoán"
   ]
  },
  {
   "cell_type": "code",
   "execution_count": 33,
   "metadata": {},
   "outputs": [
    {
     "data": {
      "text/html": [
       "<div>\n",
       "<style scoped>\n",
       "    .dataframe tbody tr th:only-of-type {\n",
       "        vertical-align: middle;\n",
       "    }\n",
       "\n",
       "    .dataframe tbody tr th {\n",
       "        vertical-align: top;\n",
       "    }\n",
       "\n",
       "    .dataframe thead th {\n",
       "        text-align: right;\n",
       "    }\n",
       "</style>\n",
       "<table border=\"1\" class=\"dataframe\">\n",
       "  <thead>\n",
       "    <tr style=\"text-align: right;\">\n",
       "      <th></th>\n",
       "      <th>Config</th>\n",
       "      <th>Train_Score</th>\n",
       "      <th>Val_Score</th>\n",
       "    </tr>\n",
       "  </thead>\n",
       "  <tbody>\n",
       "    <tr>\n",
       "      <th>2</th>\n",
       "      <td>('lbfgs'; 0.01)</td>\n",
       "      <td>0.936917</td>\n",
       "      <td>0.921950</td>\n",
       "    </tr>\n",
       "    <tr>\n",
       "      <th>18</th>\n",
       "      <td>(sag; 5)</td>\n",
       "      <td>0.935117</td>\n",
       "      <td>0.920017</td>\n",
       "    </tr>\n",
       "    <tr>\n",
       "      <th>17</th>\n",
       "      <td>(sag; 3)</td>\n",
       "      <td>0.935108</td>\n",
       "      <td>0.919967</td>\n",
       "    </tr>\n",
       "    <tr>\n",
       "      <th>19</th>\n",
       "      <td>(sag; 10)</td>\n",
       "      <td>0.935125</td>\n",
       "      <td>0.919950</td>\n",
       "    </tr>\n",
       "    <tr>\n",
       "      <th>4</th>\n",
       "      <td>('sag'; 1)</td>\n",
       "      <td>0.935092</td>\n",
       "      <td>0.919933</td>\n",
       "    </tr>\n",
       "  </tbody>\n",
       "</table>\n",
       "</div>"
      ],
      "text/plain": [
       "             Config   Train_Score   Val_Score\n",
       "2   ('lbfgs'; 0.01)      0.936917    0.921950\n",
       "18         (sag; 5)      0.935117    0.920017\n",
       "17         (sag; 3)      0.935108    0.919967\n",
       "19        (sag; 10)      0.935125    0.919950\n",
       "4        ('sag'; 1)      0.935092    0.919933"
      ]
     },
     "execution_count": 33,
     "metadata": {},
     "output_type": "execute_result"
    }
   ],
   "source": [
    "norm_result.sort_values(by=[' Val_Score'], ascending=False).head()"
   ]
  },
  {
   "cell_type": "code",
   "execution_count": 34,
   "metadata": {},
   "outputs": [
    {
     "data": {
      "text/html": [
       "<div>\n",
       "<style scoped>\n",
       "    .dataframe tbody tr th:only-of-type {\n",
       "        vertical-align: middle;\n",
       "    }\n",
       "\n",
       "    .dataframe tbody tr th {\n",
       "        vertical-align: top;\n",
       "    }\n",
       "\n",
       "    .dataframe thead th {\n",
       "        text-align: right;\n",
       "    }\n",
       "</style>\n",
       "<table border=\"1\" class=\"dataframe\">\n",
       "  <thead>\n",
       "    <tr style=\"text-align: right;\">\n",
       "      <th></th>\n",
       "      <th>Config</th>\n",
       "      <th>Train_Score</th>\n",
       "      <th>Val_Score</th>\n",
       "    </tr>\n",
       "  </thead>\n",
       "  <tbody>\n",
       "    <tr>\n",
       "      <th>9</th>\n",
       "      <td>('saga'; 0.1)</td>\n",
       "      <td>0.929408</td>\n",
       "      <td>0.912650</td>\n",
       "    </tr>\n",
       "    <tr>\n",
       "      <th>5</th>\n",
       "      <td>('sag'; 0.1)</td>\n",
       "      <td>0.929417</td>\n",
       "      <td>0.912650</td>\n",
       "    </tr>\n",
       "    <tr>\n",
       "      <th>1</th>\n",
       "      <td>('lbfgs'; 0.1)</td>\n",
       "      <td>0.929446</td>\n",
       "      <td>0.912517</td>\n",
       "    </tr>\n",
       "    <tr>\n",
       "      <th>4</th>\n",
       "      <td>('sag'; 1)</td>\n",
       "      <td>0.937250</td>\n",
       "      <td>0.910350</td>\n",
       "    </tr>\n",
       "    <tr>\n",
       "      <th>8</th>\n",
       "      <td>('saga'; 1)</td>\n",
       "      <td>0.937037</td>\n",
       "      <td>0.910317</td>\n",
       "    </tr>\n",
       "  </tbody>\n",
       "</table>\n",
       "</div>"
      ],
      "text/plain": [
       "           Config   Train_Score   Val_Score\n",
       "9   ('saga'; 0.1)      0.929408    0.912650\n",
       "5    ('sag'; 0.1)      0.929417    0.912650\n",
       "1  ('lbfgs'; 0.1)      0.929446    0.912517\n",
       "4      ('sag'; 1)      0.937250    0.910350\n",
       "8     ('saga'; 1)      0.937037    0.910317"
      ]
     },
     "execution_count": 34,
     "metadata": {},
     "output_type": "execute_result"
    }
   ],
   "source": [
    "rescaled_result.sort_values(by=[' Val_Score'], ascending=False).head()"
   ]
  },
  {
   "cell_type": "code",
   "execution_count": 73,
   "metadata": {},
   "outputs": [],
   "source": [
    "rescaled_models_path = 'rescaled_models.pkl'\n",
    "if os.path.isfile(rescaled_models_path):\n",
    "    rescaled_model_list = pickle.load(open(rescaled_models_path, 'rb'))\n",
    "else:\n",
    "    rescaled_model_list = [rescaled_model]\n",
    "    rescaled_model_list.append(linear_model.LogisticRegression(C=0.1, solver='saga', max_iter=200))\n",
    "    rescaled_model_list.append(linear_model.LogisticRegression(C=0.1, solver='lbfgs', max_iter=200))\n",
    "\n",
    "    rescaled_model_list[1].fit(rescaled_X, Y.reshape(Y.shape[0], ))\n",
    "    rescaled_model_list[2].fit(rescaled_X, Y.reshape(Y.shape[0], ))\n",
    "\n",
    "    pickle.dump(rescaled_model_list, open(rescaled_models_path, 'wb+'))\n",
    "    \n",
    "norm_models_path = 'norm_models.pkl'\n",
    "if os.path.isfile(norm_models_path):\n",
    "    norm_model_list = pickle.load(open(norm_models_path, 'rb'))\n",
    "else:\n",
    "    norm_model_list = [norm_model]\n",
    "    norm_model_list.append(linear_model.LogisticRegression(C=5, solver='sag', max_iter=200))\n",
    "    norm_model_list.append(linear_model.LogisticRegression(C=3, solver='sag', max_iter=200))\n",
    "\n",
    "    norm_model_list[1].fit(norm_X, Y.reshape(Y.shape[0], ))\n",
    "    norm_model_list[2].fit(norm_X, Y.reshape(Y.shape[0], ))\n",
    "    \n",
    "    pickle.dump(norm_model_list, open(norm_models_path, 'wb+'))"
   ]
  },
  {
   "cell_type": "code",
   "execution_count": null,
   "metadata": {},
   "outputs": [],
   "source": [
    "_test, _ = drop_const_pixel(x_test, rescaled_drop_col)\n",
    "\n",
    "rescaled_x_test = intensity_rescaling(_test)\n",
    "\n",
    "\n",
    "_test, _ = drop_const_pixel(x_test, norm_drop_col)\n",
    "\n",
    "norm_x_test = norm_scaler.transform(_test)"
   ]
  },
  {
   "cell_type": "code",
   "execution_count": null,
   "metadata": {},
   "outputs": [],
   "source": [
    "class MNIST_Ensemble_Linear_Log_Reg:\n",
    "    def __init__(self, ensemblers, weight, norm_scaler, norm_drop_col, rescaled_drop_col):\n",
    "        self.ensemblers = ensemblers\n",
    "        self.weight = weight\n",
    "        self.norm_scaler = norm_scaler\n",
    "        self.norm_drop_col = norm_drop_col\n",
    "        self.rescaled_drop_col = rescaled_drop_col\n",
    "        \n",
    "    def predict(X):\n",
    "        _s_test, _ = drop_const_pixel(X, self.rescaled_drop_col)\n",
    "        rescaled_x = intensity_rescaling(_s_test)\n",
    "        \n",
    "        _n_test, _ = drop_const_pixel(X, self.norm_drop_col)\n",
    "        norm_x = norm_scaler.transform(_n_test)\n",
    "        \n",
    "        "
   ]
  },
  {
   "cell_type": "markdown",
   "metadata": {},
   "source": [
    "# IV. Thực nghiệm thực tế"
   ]
  },
  {
   "cell_type": "markdown",
   "metadata": {},
   "source": [
    "drawer = os.getcwd() + '\\draw\\main.py'"
   ]
  },
  {
   "cell_type": "code",
   "execution_count": 28,
   "metadata": {},
   "outputs": [],
   "source": [
    "# Thư viện sử dụng"
   ]
  },
  {
   "cell_type": "code",
   "execution_count": null,
   "metadata": {},
   "outputs": [],
   "source": []
  },
  {
   "cell_type": "code",
   "execution_count": 29,
   "metadata": {},
   "outputs": [
    {
     "ename": "SyntaxError",
     "evalue": "invalid syntax (<ipython-input-29-5a4f7950daa6>, line 1)",
     "output_type": "error",
     "traceback": [
      "\u001b[1;36m  File \u001b[1;32m\"<ipython-input-29-5a4f7950daa6>\"\u001b[1;36m, line \u001b[1;32m1\u001b[0m\n\u001b[1;33m    -c config.json\u001b[0m\n\u001b[1;37m       ^\u001b[0m\n\u001b[1;31mSyntaxError\u001b[0m\u001b[1;31m:\u001b[0m invalid syntax\n"
     ]
    }
   ],
   "source": [
    " -c config.json"
   ]
  }
 ],
 "metadata": {
  "kernelspec": {
   "display_name": "Python 3.8",
   "language": "python",
   "name": "other-env-3.8"
  },
  "language_info": {
   "codemirror_mode": {
    "name": "ipython",
    "version": 3
   },
   "file_extension": ".py",
   "mimetype": "text/x-python",
   "name": "python",
   "nbconvert_exporter": "python",
   "pygments_lexer": "ipython3",
   "version": "3.8.6"
  }
 },
 "nbformat": 4,
 "nbformat_minor": 4
}
